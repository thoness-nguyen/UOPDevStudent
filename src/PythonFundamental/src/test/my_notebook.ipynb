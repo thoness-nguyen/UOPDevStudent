{
 "cells": [
  {
   "cell_type": "code",
   "execution_count": 1,
   "id": "bd559e30",
   "metadata": {},
   "outputs": [],
   "source": [
    "import pandas as pd"
   ]
  },
  {
   "cell_type": "code",
   "execution_count": 2,
   "id": "686f849c",
   "metadata": {},
   "outputs": [
    {
     "name": "stdout",
     "output_type": "stream",
     "text": [
      "Hello Yeu Linh, welcome to the Python world!\n"
     ]
    }
   ],
   "source": [
    "thanh = \"Yeu Linh\"\n",
    "print(f\"Hello {thanh}, welcome to the Python world!\")"
   ]
  },
  {
   "cell_type": "code",
   "execution_count": 6,
   "id": "a7ebce3a",
   "metadata": {},
   "outputs": [
    {
     "data": {
      "text/plain": [
       "str"
      ]
     },
     "execution_count": 6,
     "metadata": {},
     "output_type": "execute_result"
    }
   ],
   "source": [
    "def greet(name: str) -> str:\n",
    "    \"\"\"Function to greet a person.\"\"\"\n",
    "    return f\"Hello {name}, welcome to the Python world!\"\n",
    "\n",
    "greet(1)\n",
    "type(greet(1))"
   ]
  }
 ],
 "metadata": {
  "kernelspec": {
   "display_name": ".venv",
   "language": "python",
   "name": "python3"
  },
  "language_info": {
   "codemirror_mode": {
    "name": "ipython",
    "version": 3
   },
   "file_extension": ".py",
   "mimetype": "text/x-python",
   "name": "python",
   "nbconvert_exporter": "python",
   "pygments_lexer": "ipython3",
   "version": "3.13.5"
  }
 },
 "nbformat": 4,
 "nbformat_minor": 5
}
