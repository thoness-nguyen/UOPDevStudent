{
 "cells": [
  {
   "cell_type": "code",
   "execution_count": 1,
   "id": "2778d5b7",
   "metadata": {},
   "outputs": [],
   "source": [
    "import pandas as pd\n",
    "import numpy as np"
   ]
  },
  {
   "cell_type": "code",
   "execution_count": 34,
   "id": "a31e088d",
   "metadata": {},
   "outputs": [
    {
     "ename": "ValueError",
     "evalue": "The divisor must be an odd number.",
     "output_type": "error",
     "traceback": [
      "\u001b[31m---------------------------------------------------------------------------\u001b[39m",
      "\u001b[31mValueError\u001b[39m                                Traceback (most recent call last)",
      "\u001b[36mCell\u001b[39m\u001b[36m \u001b[39m\u001b[32mIn[34]\u001b[39m\u001b[32m, line 9\u001b[39m\n\u001b[32m      6\u001b[39m         \u001b[38;5;28;01mraise\u001b[39;00m \u001b[38;5;167;01mValueError\u001b[39;00m(\u001b[33m\"\u001b[39m\u001b[33mThe divisor must be an odd number.\u001b[39m\u001b[33m\"\u001b[39m)\n\u001b[32m      7\u001b[39m     \u001b[38;5;28;01mreturn\u001b[39;00m a % b\n\u001b[32m----> \u001b[39m\u001b[32m9\u001b[39m \u001b[43mget_remainder\u001b[49m\u001b[43m(\u001b[49m\u001b[32;43m70\u001b[39;49m\u001b[43m,\u001b[49m\u001b[43m \u001b[49m\u001b[32;43m4\u001b[39;49m\u001b[43m)\u001b[49m    \n",
      "\u001b[36mCell\u001b[39m\u001b[36m \u001b[39m\u001b[32mIn[34]\u001b[39m\u001b[32m, line 6\u001b[39m, in \u001b[36mget_remainder\u001b[39m\u001b[34m(a, b)\u001b[39m\n\u001b[32m      4\u001b[39m     \u001b[38;5;28;01mraise\u001b[39;00m \u001b[38;5;167;01mValueError\u001b[39;00m(\u001b[33m\"\u001b[39m\u001b[33mThe divisor must be greater than zero.\u001b[39m\u001b[33m\"\u001b[39m)\n\u001b[32m      5\u001b[39m \u001b[38;5;28;01mif\u001b[39;00m b % \u001b[32m2\u001b[39m == \u001b[32m0\u001b[39m:\n\u001b[32m----> \u001b[39m\u001b[32m6\u001b[39m     \u001b[38;5;28;01mraise\u001b[39;00m \u001b[38;5;167;01mValueError\u001b[39;00m(\u001b[33m\"\u001b[39m\u001b[33mThe divisor must be an odd number.\u001b[39m\u001b[33m\"\u001b[39m)\n\u001b[32m      7\u001b[39m \u001b[38;5;28;01mreturn\u001b[39;00m a % b\n",
      "\u001b[31mValueError\u001b[39m: The divisor must be an odd number."
     ]
    }
   ],
   "source": [
    "def get_remainder(a: int, b: int) -> int:\n",
    "    \n",
    "    if b <= 0:\n",
    "        raise ValueError(\"The divisor must be greater than zero.\")\n",
    "    if b % 2 == 0:\n",
    "        raise ValueError(\"The divisor must be an odd number.\")\n",
    "    return a % b\n",
    "\n",
    "get_remainder(70, 4)    "
   ]
  },
  {
   "cell_type": "code",
   "execution_count": 33,
   "id": "549beeed",
   "metadata": {},
   "outputs": [
    {
     "ename": "AssertionError",
     "evalue": "Postcondition failed: result is negative",
     "output_type": "error",
     "traceback": [
      "\u001b[31m---------------------------------------------------------------------------\u001b[39m",
      "\u001b[31mAssertionError\u001b[39m                            Traceback (most recent call last)",
      "\u001b[36mCell\u001b[39m\u001b[36m \u001b[39m\u001b[32mIn[33]\u001b[39m\u001b[32m, line 12\u001b[39m\n\u001b[32m      9\u001b[39m     \u001b[38;5;28;01mreturn\u001b[39;00m result\n\u001b[32m     11\u001b[39m \u001b[38;5;66;03m# Example usage\u001b[39;00m\n\u001b[32m---> \u001b[39m\u001b[32m12\u001b[39m sqrt_val = \u001b[43mcalculate_square_root\u001b[49m\u001b[43m(\u001b[49m\u001b[32;43m0\u001b[39;49m\u001b[43m)\u001b[49m\n\u001b[32m     13\u001b[39m \u001b[38;5;28mprint\u001b[39m(\u001b[33mf\u001b[39m\u001b[33m\"\u001b[39m\u001b[33mSquare root of 25 is: \u001b[39m\u001b[38;5;132;01m{\u001b[39;00msqrt_val\u001b[38;5;132;01m}\u001b[39;00m\u001b[33m\"\u001b[39m)\n",
      "\u001b[36mCell\u001b[39m\u001b[36m \u001b[39m\u001b[32mIn[33]\u001b[39m\u001b[32m, line 7\u001b[39m, in \u001b[36mcalculate_square_root\u001b[39m\u001b[34m(number)\u001b[39m\n\u001b[32m      3\u001b[39m     \u001b[38;5;28;01mraise\u001b[39;00m \u001b[38;5;167;01mValueError\u001b[39;00m(\u001b[33m\"\u001b[39m\u001b[33mCannot calculate square root of a negative number.\u001b[39m\u001b[33m\"\u001b[39m)\n\u001b[32m      5\u001b[39m result = number ** \u001b[32m0.5\u001b[39m\n\u001b[32m----> \u001b[39m\u001b[32m7\u001b[39m \u001b[38;5;28;01massert\u001b[39;00m result > \u001b[32m0\u001b[39m, \u001b[33m\"\u001b[39m\u001b[33mPostcondition failed: result is negative\u001b[39m\u001b[33m\"\u001b[39m\n\u001b[32m      9\u001b[39m \u001b[38;5;28;01mreturn\u001b[39;00m result\n",
      "\u001b[31mAssertionError\u001b[39m: Postcondition failed: result is negative"
     ]
    }
   ],
   "source": [
    "def calculate_square_root(number):\n",
    "    if number < 0:\n",
    "        raise ValueError(\"Cannot calculate square root of a negative number.\")\n",
    "    \n",
    "    result = number ** 0.5\n",
    "    \n",
    "    assert result > 0, \"Postcondition failed: result is negative\"\n",
    "    \n",
    "    return result\n",
    "\n",
    "# Example usage\n",
    "sqrt_val = calculate_square_root(0)\n",
    "print(f\"Square root of 25 is: {sqrt_val}\")"
   ]
  },
  {
   "cell_type": "code",
   "execution_count": 27,
   "id": "d0a50e48",
   "metadata": {},
   "outputs": [
    {
     "data": {
      "text/plain": [
       "10"
      ]
     },
     "execution_count": 27,
     "metadata": {},
     "output_type": "execute_result"
    }
   ],
   "source": [
    "## case 1 returns incorrect result\n",
    "def square_area(length: int) -> int:\n",
    "    area = length + length\n",
    "    return area\n",
    "\n",
    "square_area(5)\n",
    "\n",
    "# Which is wrong because it adds instead of multiplies. In this case, the function’s return value is incorrect."
   ]
  },
  {
   "cell_type": "code",
   "execution_count": 30,
   "id": "87a4567f",
   "metadata": {},
   "outputs": [
    {
     "name": "stdout",
     "output_type": "stream",
     "text": [
      "premiter of square is: 25\n",
      "premiter of square is: 20\n"
     ]
    }
   ],
   "source": [
    "# Result being used incorrectly\n",
    "\n",
    "def square_area(length: int) -> int:\n",
    "    area = length ** 2\n",
    "    return area\n",
    "\n",
    "print(f\"premiter of square is: {square_area(5)}\")\n",
    "\n",
    "# Should be:\n",
    "\n",
    "def premiter_square_area(length: int) -> int:\n",
    "    area = length * 4\n",
    "    return area\n",
    "\n",
    "print(f\"premiter of square is: {premiter_square_area(5)}\")"
   ]
  },
  {
   "cell_type": "code",
   "execution_count": null,
   "id": "54a95a74",
   "metadata": {},
   "outputs": [
    {
     "name": "stdout",
     "output_type": "stream",
     "text": [
      "5.0\n"
     ]
    }
   ],
   "source": [
    "# Stage 1: Function Skeleton\n",
    "# We define the function but return a dummy value (0.0) to ensure it runs.\n",
    "\n",
    "def hypotenuse_length(a, b) -> float:\n",
    "    return 5.0\n",
    "\n",
    "print(hypotenuse_length(3, 4))\n"
   ]
  },
  {
   "cell_type": "code",
   "execution_count": 39,
   "id": "0b172909",
   "metadata": {},
   "outputs": [
    {
     "name": "stdout",
     "output_type": "stream",
     "text": [
      "a squared: 9\n",
      "b squared: 16\n",
      "5.0\n"
     ]
    }
   ],
   "source": [
    "# Stage 2: Adding Variables and Print Them\n",
    "\n",
    "def hypotenuse_length(a, b) -> float:\n",
    "    a_squared = a ** 2\n",
    "    b_squared = b ** 2\n",
    "    print(\"a squared:\", a_squared)\n",
    "    print(\"b squared:\", b_squared)\n",
    "    return 5.0\n",
    "\n",
    "print(hypotenuse_length(3, 4))\n"
   ]
  },
  {
   "cell_type": "code",
   "execution_count": 41,
   "id": "2105a633",
   "metadata": {},
   "outputs": [
    {
     "name": "stdout",
     "output_type": "stream",
     "text": [
      "sum of squared: 25\n",
      "5.0\n"
     ]
    }
   ],
   "source": [
    "# Stage 3: Perform the sum of squares\n",
    "\n",
    "def hypotenuse_length(a, b) -> float:\n",
    "    a_squared = a ** 2\n",
    "    b_squared = b ** 2\n",
    "    sum_of_squares = a_squared + b_squared\n",
    "    print(\"sum of squared:\", sum_of_squares)\n",
    "    return 5.0\n",
    "\n",
    "print(hypotenuse_length(3, 4))"
   ]
  },
  {
   "cell_type": "code",
   "execution_count": 46,
   "id": "5fd05470",
   "metadata": {},
   "outputs": [
    {
     "name": "stdout",
     "output_type": "stream",
     "text": [
      "squared root of sum of squares: 5.0\n",
      "5.0\n",
      "squared root of sum of squares: 13.0\n",
      "13.0\n",
      "squared root of sum of squares: 9.091754506144564\n",
      "9.091754506144564\n"
     ]
    }
   ],
   "source": [
    "# Stage 4: Perform the square root of the sum of squares\n",
    "\n",
    "# Import library for square root calculation\n",
    "import math\n",
    "\n",
    "def hypotenuse_length(a, b) -> float:\n",
    "    a_squared = a ** 2\n",
    "    b_squared = b ** 2\n",
    "    sum_of_squares = a_squared + b_squared\n",
    "    result = math.sqrt(sum_of_squares)\n",
    "    print(\"squared root of sum of squares:\", result)\n",
    "    return result\n",
    "\n",
    "print(hypotenuse_length(3, 4))\n",
    "print(hypotenuse_length(5, 12))\n",
    "print(hypotenuse_length(4.5, 7.9))"
   ]
  },
  {
   "cell_type": "code",
   "execution_count": 48,
   "id": "7caeabf7",
   "metadata": {},
   "outputs": [
    {
     "name": "stdout",
     "output_type": "stream",
     "text": [
      "the area of the box is  125.0\n"
     ]
    },
    {
     "ename": "NameError",
     "evalue": "name 'length' is not defined",
     "output_type": "error",
     "traceback": [
      "\u001b[31m---------------------------------------------------------------------------\u001b[39m",
      "\u001b[31mNameError\u001b[39m                                 Traceback (most recent call last)",
      "\u001b[36mCell\u001b[39m\u001b[36m \u001b[39m\u001b[32mIn[48]\u001b[39m\u001b[32m, line 10\u001b[39m\n\u001b[32m      7\u001b[39m h = \u001b[32m2\u001b[39m\n\u001b[32m      8\u001b[39m test_function(l, w, h)\n\u001b[32m---> \u001b[39m\u001b[32m10\u001b[39m \u001b[38;5;28mprint\u001b[39m (\u001b[33m\"\u001b[39m\u001b[33mThe area of the box is \u001b[39m\u001b[33m\"\u001b[39m, \u001b[43mlength\u001b[49m*width*height)\n",
      "\u001b[31mNameError\u001b[39m: name 'length' is not defined"
     ]
    }
   ],
   "source": [
    "def test_function( length, width, height):\n",
    "    print (\"the area of the box is \", length*width*height)\n",
    "    return length*width*height\n",
    "\n",
    "l = 12.5\n",
    "w = 5\n",
    "h = 2\n",
    "test_function(l, w, h)\n",
    "\n",
    "print (\"The area of the box is \", length*width*height)"
   ]
  }
 ],
 "metadata": {
  "kernelspec": {
   "display_name": ".venv",
   "language": "python",
   "name": "python3"
  },
  "language_info": {
   "codemirror_mode": {
    "name": "ipython",
    "version": 3
   },
   "file_extension": ".py",
   "mimetype": "text/x-python",
   "name": "python",
   "nbconvert_exporter": "python",
   "pygments_lexer": "ipython3",
   "version": "3.13.5"
  }
 },
 "nbformat": 4,
 "nbformat_minor": 5
}
